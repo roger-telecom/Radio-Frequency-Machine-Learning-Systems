{
  "nbformat": 4,
  "nbformat_minor": 0,
  "metadata": {
    "colab": {
      "name": "Antena Patch.ipynb",
      "provenance": [],
      "authorship_tag": "ABX9TyMWKjtZgd5jUyQvBmNikJcC",
      "include_colab_link": true
    },
    "kernelspec": {
      "name": "python3",
      "display_name": "Python 3"
    },
    "language_info": {
      "name": "python"
    }
  },
  "cells": [
    {
      "cell_type": "markdown",
      "metadata": {
        "id": "view-in-github",
        "colab_type": "text"
      },
      "source": [
        "<a href=\"https://colab.research.google.com/github/roger-telecom/Radio-Frequency-Machine-Learning-Systems/blob/main/Antena_Patch.ipynb\" target=\"_parent\"><img src=\"https://colab.research.google.com/assets/colab-badge.svg\" alt=\"Open In Colab\"/></a>"
      ]
    },
    {
      "cell_type": "code",
      "execution_count": null,
      "metadata": {
        "id": "56nX3grMrz3H"
      },
      "outputs": [],
      "source": [
        "def W(Er,f):\n",
        "  c = 3*10**8\n",
        "  w = (c)/(2*f*((Er+1)/2)**(1/2))\n",
        "  return w"
      ]
    },
    {
      "cell_type": "code",
      "source": [
        "def Eeff(Er,h,w):\n",
        "  Eeff = ((Er+1)/2)+((Er-1)/2)*((1)/(1+12*(h/w))**(1/2))\n",
        "  return Eeff"
      ],
      "metadata": {
        "id": "j9UsfJowt32r"
      },
      "execution_count": null,
      "outputs": []
    },
    {
      "cell_type": "code",
      "source": [
        "def L(Eeff,h,w,f):\n",
        "  c = 3*10**8\n",
        "  L = (c)/(2*f*((Eeff)**(1/2)) - 0.824*h*((Eeff+0.3)*((w/h)+0.264))/((Eeff-0.258)*((w/h)+0.8)))\n",
        "  return L"
      ],
      "metadata": {
        "id": "-dfpQidUvCGc"
      },
      "execution_count": null,
      "outputs": []
    },
    {
      "cell_type": "code",
      "source": [
        "def dL(Eeff,h,w):\n",
        "  dL = 0.412*h*((Eeff+0.3)*((w/h)+0.264))/((Eeff-0.258)*((w/h)+0.8))\n",
        "  return dL"
      ],
      "metadata": {
        "id": "Wj7vAOsNTE2V"
      },
      "execution_count": null,
      "outputs": []
    },
    {
      "cell_type": "code",
      "source": [
        "h = 0.762*10**-3\n",
        "\n",
        "w = W(4.5,2.4*10**9)\n",
        "print(\"W:\", w)\n",
        "\n",
        "Eeff = Eeff(4.5,h,w)\n",
        "print(\"Eeff:\", Eeff)\n",
        "\n",
        "L = L(Eeff,h,w,2.4*10**9)\n",
        "print(\"L:\", L)\n",
        "\n",
        "x = (0.125)/(Eeff)**(1/2)\n",
        "print(\"x:\", x)\n",
        "\n",
        "dL = dL(Eeff,h,w)\n",
        "print(\"dL:\", dL)"
      ],
      "metadata": {
        "colab": {
          "base_uri": "https://localhost:8080/"
        },
        "id": "Hb-tLxqACgDa",
        "outputId": "bcae56e9-012f-4b69-88b4-4d50795f46cb"
      },
      "execution_count": null,
      "outputs": [
        {
          "output_type": "stream",
          "name": "stdout",
          "text": [
            "W: 0.037688918072220454\n",
            "Eeff: 4.319890186087049\n",
            "L: 0.030070708719736716\n",
            "x: 0.06014141743946918\n",
            "dL: 0.0003532639202891719\n"
          ]
        }
      ]
    },
    {
      "cell_type": "code",
      "source": [
        "def G(w,x):\n",
        "  if (w < x):\n",
        "    G = (1/90)*(w/x)**2\n",
        "  \n",
        "  if (w > x):\n",
        "    G = (1/120)*(w/x)\n",
        "\n",
        "  return G  "
      ],
      "metadata": {
        "id": "zkhrXQz4sBtA"
      },
      "execution_count": null,
      "outputs": []
    },
    {
      "cell_type": "code",
      "source": [
        "def z(G):\n",
        "  z = (1)/(G)\n",
        "\n",
        "  return z"
      ],
      "metadata": {
        "id": "tepEr1l7tCZb"
      },
      "execution_count": null,
      "outputs": []
    },
    {
      "cell_type": "code",
      "source": [
        "G = G(0.037684,0.06014)\n",
        "print(\"G:\", G)\n",
        "\n",
        "z = z(G)\n",
        "print(\"z:\", z)"
      ],
      "metadata": {
        "colab": {
          "base_uri": "https://localhost:8080/"
        },
        "id": "BpbzcwkBthNR",
        "outputId": "c04ebc85-37bc-4d3b-f739-dcd384f7dcbe"
      },
      "execution_count": null,
      "outputs": [
        {
          "output_type": "stream",
          "name": "stdout",
          "text": [
            "G: 0.004362592348015122\n",
            "z: 229.2215087332138\n"
          ]
        }
      ]
    }
  ]
}